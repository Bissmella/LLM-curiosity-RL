{
 "cells": [
  {
   "cell_type": "code",
   "execution_count": 1,
   "id": "e09d5d51-fa6d-4a89-95d7-e24a220d2ea9",
   "metadata": {},
   "outputs": [],
   "source": [
    "from huggingface_hub import snapshot_download"
   ]
  },
  {
   "cell_type": "code",
   "execution_count": 2,
   "id": "3a566020-bbd6-4729-a2f1-f1da7c46261e",
   "metadata": {},
   "outputs": [
    {
     "name": "stderr",
     "output_type": "stream",
     "text": [
      "Fetching 15 files: 100%|##########| 15/15 [00:03<00:00,  4.96it/s]\n"
     ]
    },
    {
     "data": {
      "text/plain": [
       "'/linkhome/rech/genisi01/ufn64rt/.cache/huggingface/hub/models--microsoft--Florence-2-base-ft/snapshots/9803f52844ec1ae5df004e6089262e9a23e527fd'"
      ]
     },
     "execution_count": 2,
     "metadata": {},
     "output_type": "execute_result"
    }
   ],
   "source": [
    "snapshot_download(repo_id=\"microsoft/Florence-2-base-ft\")"
   ]
  },
  {
   "cell_type": "code",
   "execution_count": null,
   "id": "0a7c57c6-7640-4d40-bd5c-a73e213e71e1",
   "metadata": {},
   "outputs": [],
   "source": [
    "{1835383}"
   ]
  }
 ],
 "metadata": {
  "kernelspec": {
   "display_name": "pytorch-gpu-2.3.0_py3.11.5",
   "language": "python",
   "name": "module-conda-env-pytorch-gpu-2.3.0_py3.11.5"
  },
  "language_info": {
   "file_extension": ".py",
   "mimetype": "text/x-python",
   "name": "python",
   "version": "3.11.7"
  }
 },
 "nbformat": 4,
 "nbformat_minor": 5
}
